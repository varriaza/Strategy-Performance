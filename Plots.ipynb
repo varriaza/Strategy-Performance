{
 "cells": [
  {
   "cell_type": "code",
   "execution_count": 1,
   "metadata": {},
   "outputs": [
    {
     "data": {
      "text/plain": [
       "'\\nUsed for ploting csv data\\n'"
      ]
     },
     "execution_count": 1,
     "metadata": {},
     "output_type": "execute_result"
    }
   ],
   "source": [
    "\"\"\"\n",
    "Used for ploting csv data\n",
    "\"\"\""
   ]
  },
  {
   "cell_type": "code",
   "execution_count": 2,
   "metadata": {},
   "outputs": [],
   "source": [
    "# imports\n",
    "import time\n",
    "import datetime\n",
    "import pandas as pd"
   ]
  },
  {
   "cell_type": "code",
   "execution_count": 26,
   "metadata": {},
   "outputs": [],
   "source": [
    "# Read in csv's\n",
    "list_of_csv = [\n",
    "    # 'full_data__6__2017.csv', # don't use 2017 data, its not great\n",
    "    'full_data__6__2018.csv',\n",
    "    'full_data__6__2019.csv',\n",
    "    'full_data__6__2020.csv',\n",
    "    'full_data__6__2021.csv'\n",
    "]\n",
    "\n",
    "# y_17 = pd.read_csv('full_data_6_2017.csv')\n",
    "# y_18 = pd.read_csv('full_data_6_2018.csv')"
   ]
  },
  {
   "cell_type": "code",
   "execution_count": 57,
   "metadata": {},
   "outputs": [],
   "source": [
    "# Create arbitrary plot\n",
    "def create_time_period(start, end, name):\n",
    "    \"\"\"\n",
    "    Loops through csv until time > start and continue until end < time.\n",
    "    If the end of a file is reached, open the next one.\n",
    "    Save the resulting data as a new csv called 'name.csv'\n",
    "    \"\"\"\n",
    "    start = int(time.mktime(datetime.datetime.strptime(start, \"%m/%d/%Y\").timetuple()))\n",
    "    print(f'Start timestamp: {start}')\n",
    "    end = int(time.mktime(datetime.datetime.strptime(end, \"%m/%d/%Y\").timetuple()))\n",
    "    print(f'End timestamp: {start}')\n",
    "    new_df = pd.DataFrame(columns=['timestamp','price'])\n",
    "\n",
    "    for csv in list_of_csv:\n",
    "        # read data in\n",
    "        data = pd.read_csv(f'csv_files\\{csv}')\n",
    "        end_time_of_csv = data['timestamp'].iloc[-1]\n",
    "        # Check if end_of_csv_time < start: go to next csv\n",
    "        if end_time_of_csv < start:\n",
    "            continue\n",
    "        # Add all rows that are between start and end to new_df\n",
    "        new_df = new_df.append(\n",
    "            data.loc[\n",
    "                (data['timestamp'] > start) &\n",
    "                (data['timestamp'] < end)\n",
    "            ], ignore_index=True\n",
    "        )\n",
    "        # check if end_of_csv_time > end: stop collecting data\n",
    "        if end_time_of_csv > end:\n",
    "            break\n",
    "    \n",
    "    # create 'price' column from avg of Open and Close\n",
    "    new_df['price'] = (new_df['Open']+new_df['Close'])/2\n",
    "    # Give the index a name for the csv\n",
    "    new_df.index.names = ['index']\n",
    "    # drop all columns we don't want\n",
    "    new_df = new_df.filter(['index', 'timestamp', 'price'])\n",
    "    print(new_df)\n",
    "    # Save df as csv\n",
    "    if not new_df.empty:\n",
    "        new_df.to_csv(f'csv_files\\{name}.csv')"
   ]
  },
  {
   "cell_type": "code",
   "execution_count": 63,
   "metadata": {},
   "outputs": [
    {
     "name": "stdout",
     "output_type": "stream",
     "text": [
      "Start timestamp: 1514880000\n",
      "End timestamp: 1514880000\n",
      "        timestamp       price\n",
      "index                        \n",
      "0      1514880060   849.48125\n",
      "1      1514880120   849.65000\n",
      "2      1514880180   849.29250\n",
      "3      1514880240   849.22750\n",
      "4      1514880300   849.09000\n",
      "...           ...         ...\n",
      "4314   1515138900  1005.57875\n",
      "4315   1515138960  1005.20375\n",
      "4316   1515139020  1005.26625\n",
      "4317   1515139080  1005.41000\n",
      "4318   1515139140  1005.25750\n",
      "\n",
      "[4319 rows x 2 columns]\n"
     ]
    }
   ],
   "source": [
    "create_time_period('1/2/2018','01/5/2018', 'test_2')"
   ]
  },
  {
   "cell_type": "code",
   "execution_count": 62,
   "metadata": {},
   "outputs": [
    {
     "name": "stdout",
     "output_type": "stream",
     "text": [
      "Start datetime: 2018-01-02 08:01:00\n",
      "End datetime:   2018-01-05 07:59:00\n"
     ]
    },
    {
     "data": {
      "text/plain": [
       "<AxesSubplot:xlabel='index'>"
      ]
     },
     "execution_count": 62,
     "metadata": {},
     "output_type": "execute_result"
    },
    {
     "data": {
      "image/png": "[encoded data removed]",
      "text/plain": [
       "<Figure size 432x288 with 1 Axes>"
      ]
     },
     "metadata": {
      "needs_background": "light"
     },
     "output_type": "display_data"
    }
   ],
   "source": [
    "# Plots\n",
    "# Recalibrate time variable in a new row to start at 0\n",
    "# start_time = data['Time'].values[0]\n",
    "# data['Cal Time'] = data['Time'].apply(lambda x: x - start_time)\n",
    "\n",
    "# Examples\n",
    "# Plot data returned\n",
    "# By default x=index\n",
    "# data.plot(y='To #', kind='line')\n",
    "# data.plot(x='Cal Time', y=['To #', 'Plus .3%', 'Minus .3%'], kind='line')\n",
    "# data.plot(x='Cal Time', y=['To #', 'Plus .3%', 'Minus .3%'], kind='line', xlim=(35000,45000))\n",
    "# data.plot(x='Cal Time', y=['To #', 'Plus .3%', 'Minus .3%'], kind='line', ylim=(data['To #'].mean()*(1-.005),data['To #'].mean()*(1+.005)))\n",
    "\n",
    "data = pd.read_csv(f'csv_files\\\\test_2.csv', index_col='index')\n",
    "start_datetime = pd.to_datetime(data['timestamp'].iloc[0], unit='s')\n",
    "end_datetime = pd.to_datetime(data['timestamp'].iloc[-1], unit='s')\n",
    "print(f'Start datetime: {start_datetime}')\n",
    "print(f'End datetime:   {end_datetime}')\n",
    "data.plot(y='price', kind='line')"
   ]
  }
 ],
 "metadata": {
  "interpreter": {
   "hash": "e7f6ce40941103abb3416a795e028450c6c1ee6bd4c25de01325501f9db33dc9"
  },
  "kernelspec": {
   "display_name": "Python 3.9.7 64-bit ('base': conda)",
   "language": "python",
   "name": "python3"
  },
  "language_info": {
   "name": "python",
   "version": "3.9.7"
  },
  "orig_nbformat": 4
 },
 "nbformat": 4,
 "nbformat_minor": 2
}
