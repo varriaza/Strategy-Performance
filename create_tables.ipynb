{
 "cells": [
  {
   "cell_type": "code",
   "execution_count": null,
   "metadata": {},
   "outputs": [],
   "source": [
    "\"\"\"Call strategies and add to data tables in this file.\"\"\""
   ]
  },
  {
   "cell_type": "code",
   "execution_count": 2,
   "metadata": {},
   "outputs": [],
   "source": [
    "# name all of the price_periods\n",
    "price_period_name_list = [\n",
    "    'test',\n",
    "    # 'test_month',\n",
    "    # '2018_price_data',\n",
    "    # '2019_price_data',\n",
    "    # '2020_price_data',\n",
    "    # '2021_price_data_inc'\n",
    "    ]\n",
    "\n",
    "# Set default buy size to be 10k\n",
    "starting_usd = 10000\n",
    "# Seconds in a day\n",
    "seconds_in_a_day = 60*60*24"
   ]
  },
  {
   "cell_type": "code",
   "execution_count": null,
   "metadata": {},
   "outputs": [],
   "source": [
    "# Dollar Cost Average\n",
    "from specific_strategies import dca\n",
    "\n",
    "# Number of days between dollar cost average buys\n",
    "# days_between_buys_list = [1, 7, 28]\n",
    "days_between_buys_list = [1]\n",
    "\n",
    "# loop through time periods\n",
    "for price_period_name in price_period_name_list:\n",
    "    # loop through days_between_buys list\n",
    "    for days in days_between_buys_list:\n",
    "        # Turns days into seconds\n",
    "        days = days*seconds_in_a_day\n",
    "        dca_strategy = dca.base_dca(\n",
    "            starting_usd=starting_usd,\n",
    "            time_between_action=days,\n",
    "            price_period_name=price_period_name\n",
    "        )\n",
    "        dca_strategy.run_logic()\n"
   ]
  },
  {
   "cell_type": "code",
   "execution_count": 3,
   "metadata": {},
   "outputs": [
    {
     "name": "stdout",
     "output_type": "stream",
     "text": [
      "Running strategy for: All in\n",
      "For price period of: test\n",
      "All in started.\n",
      "All in completed!\n",
      "Seconds taken: 12.22\n",
      "\n"
     ]
    }
   ],
   "source": [
    "# All in\n",
    "from specific_strategies import all_in\n",
    "\n",
    "# loop through time periods\n",
    "for price_period_name in price_period_name_list:\n",
    "        # we don't really need this but we just have to pick a number that won't be larger than our price_period\n",
    "        days = 28\n",
    "        # Turns days into seconds\n",
    "        days = days*seconds_in_a_day\n",
    "        all_in_strategy = all_in.base_all_in(\n",
    "            starting_usd=starting_usd,\n",
    "            time_between_action=days,\n",
    "            price_period_name=price_period_name\n",
    "        )\n",
    "        all_in_strategy.run_logic()"
   ]
  }
 ],
 "metadata": {
  "interpreter": {
   "hash": "34dfee18d5f4a96df9a8fcc719c91cf50e8ed50de2aa108bf45cd20982063274"
  },
  "kernelspec": {
   "display_name": "Python 3.9.7 64-bit (conda)",
   "language": "python",
   "name": "python3"
  },
  "language_info": {
   "codemirror_mode": {
    "name": "ipython",
    "version": 3
   },
   "file_extension": ".py",
   "mimetype": "text/x-python",
   "name": "python",
   "nbconvert_exporter": "python",
   "pygments_lexer": "ipython3",
   "version": "3.9.7"
  },
  "orig_nbformat": 4
 },
 "nbformat": 4,
 "nbformat_minor": 2
}
